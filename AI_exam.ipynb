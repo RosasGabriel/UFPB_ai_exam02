{
  "nbformat": 4,
  "nbformat_minor": 0,
  "metadata": {
    "colab": {
      "provenance": [],
      "authorship_tag": "ABX9TyPu3ubR/c4QYK11g2ru3AlQ",
      "include_colab_link": true
    },
    "kernelspec": {
      "name": "python3",
      "display_name": "Python 3"
    },
    "language_info": {
      "name": "python"
    }
  },
  "cells": [
    {
      "cell_type": "markdown",
      "metadata": {
        "id": "view-in-github",
        "colab_type": "text"
      },
      "source": [
        "<a href=\"https://colab.research.google.com/github/RosasGabriel/UFPB_ai_exam02/blob/main/AI_exam.ipynb\" target=\"_parent\"><img src=\"https://colab.research.google.com/assets/colab-badge.svg\" alt=\"Open In Colab\"/></a>"
      ]
    },
    {
      "cell_type": "code",
      "execution_count": 42,
      "metadata": {
        "colab": {
          "base_uri": "https://localhost:8080/"
        },
        "id": "NSYle80nqvo-",
        "outputId": "cd854860-d07c-4d9e-c823-ef0b366948a1"
      },
      "outputs": [
        {
          "output_type": "stream",
          "name": "stdout",
          "text": [
            "         Unnamed: 0 popularity  min_height  max_height  min_weight  \\\n",
            "0     Affenpinscher        148       22.86       29.21    3.175147   \n",
            "1      Afghan Hound        113       63.50       68.58   22.679619   \n",
            "2  Airedale Terrier         60       58.42       58.42   22.679619   \n",
            "3             Akita         47       60.96       71.12   31.751466   \n",
            "4  Alaskan Malamute         58       58.42       63.50   34.019428   \n",
            "\n",
            "   max_weight  min_expectancy  max_expectancy          group  \\\n",
            "0    4.535924            12.0            15.0      Toy Group   \n",
            "1   27.215542            12.0            15.0    Hound Group   \n",
            "2   31.751466            11.0            14.0  Terrier Group   \n",
            "3   58.967008            10.0            13.0  Working Group   \n",
            "4   38.555351            10.0            14.0  Working Group   \n",
            "\n",
            "   grooming_frequency_value  shedding_value  energy_level_value  \\\n",
            "0                       0.6             0.6                 0.6   \n",
            "1                       0.8             0.2                 0.8   \n",
            "2                       0.6             0.4                 0.6   \n",
            "3                       0.8             0.6                 0.8   \n",
            "4                       0.6             0.6                 0.8   \n",
            "\n",
            "   trainability_value  demeanor_value  \n",
            "0                 0.8             1.0  \n",
            "1                 0.2             0.2  \n",
            "2                 1.0             0.8  \n",
            "3                 1.0             0.6  \n",
            "4                 0.4             0.8  \n",
            "(277, 14)\n"
          ]
        }
      ],
      "source": [
        "import numpy as np\n",
        "import pandas as pd\n",
        "import seaborn as sb\n",
        "import matplotlib.pyplot as plt\n",
        "\n",
        "dog_db = pd.read_csv('dog_database.csv')\n",
        "\n",
        "# Prints para checagem de leitura do arquivo\n",
        "# print(dog_db)\n",
        "# print(dog_db.head())\n",
        "# print(dog_db.shape)\n",
        "\n",
        "ignored_columns = ['description', 'temperament', 'grooming_frequency_category', 'shedding_category', 'energy_level_category', 'trainability_category', 'demeanor_category']\n",
        "\n",
        "dog_db = dog_db.drop(ignored_columns, axis=1) \n",
        "# print(dog_db)\n",
        "print(dog_db.head())\n",
        "print(dog_db.shape)"
      ]
    },
    {
      "cell_type": "code",
      "source": [
        "# Teste de organização de plotagem\n",
        "shedding = dog_db['shedding_value']\n",
        "count_shedding = shedding.value_counts().sort_index()\n",
        "\n",
        "count_shedding.plot.bar(x=count_shedding.index)\n",
        "plt.title(\"Bars graph\")\n",
        "plt.xlabel(\"X axis\")\n",
        "plt.ylabel(\"Y axis\")\n",
        "plt.show()"
      ],
      "metadata": {
        "colab": {
          "base_uri": "https://localhost:8080/",
          "height": 480
        },
        "id": "2vzq1jEw7xfz",
        "outputId": "65f23fe9-f7da-4936-ba15-12c77b9acf8c"
      },
      "execution_count": 40,
      "outputs": [
        {
          "output_type": "display_data",
          "data": {
            "text/plain": [
              "<Figure size 640x480 with 1 Axes>"
            ],
            "image/png": "[encoded data removed]"
          },
          "metadata": {}
        }
      ]
    },
    {
      "cell_type": "code",
      "source": [
        "#Definição do parâmetro de saída\n",
        "output = 'raça'\n",
        "\n",
        "dog_db = dog_db.rename(columns={dog_db.columns[0]: output})\n",
        "dog_db = dog_db.drop(output, axis=1)\n",
        "# print(dog_db.columns)"
      ],
      "metadata": {
        "id": "Sq1YPmJu_2Tq"
      },
      "execution_count": 41,
      "outputs": []
    }
  ]
}