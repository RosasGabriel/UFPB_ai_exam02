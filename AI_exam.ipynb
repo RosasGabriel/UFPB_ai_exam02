{
  "nbformat": 4,
  "nbformat_minor": 0,
  "metadata": {
    "colab": {
      "provenance": [],
      "authorship_tag": "ABX9TyNeQFEWwSB5ltDH6tXu8964",
      "include_colab_link": true
    },
    "kernelspec": {
      "name": "python3",
      "display_name": "Python 3"
    },
    "language_info": {
      "name": "python"
    }
  },
  "cells": [
    {
      "cell_type": "markdown",
      "metadata": {
        "id": "view-in-github",
        "colab_type": "text"
      },
      "source": [
        "<a href=\"https://colab.research.google.com/github/RosasGabriel/UFPB_ai_exam02/blob/main/AI_exam.ipynb\" target=\"_parent\"><img src=\"https://colab.research.google.com/assets/colab-badge.svg\" alt=\"Open In Colab\"/></a>"
      ]
    },
    {
      "cell_type": "code",
      "execution_count": 6,
      "metadata": {
        "colab": {
          "base_uri": "https://localhost:8080/"
        },
        "id": "NSYle80nqvo-",
        "outputId": "6c914670-7b84-46e7-8f49-6e4df79c4733"
      },
      "outputs": [
        {
          "output_type": "stream",
          "name": "stdout",
          "text": [
            "         Unnamed: 0 popularity  min_height  max_height  min_weight  \\\n",
            "0     Affenpinscher        148       22.86       29.21    3.175147   \n",
            "1      Afghan Hound        113       63.50       68.58   22.679619   \n",
            "2  Airedale Terrier         60       58.42       58.42   22.679619   \n",
            "3             Akita         47       60.96       71.12   31.751466   \n",
            "4  Alaskan Malamute         58       58.42       63.50   34.019428   \n",
            "\n",
            "   max_weight  min_expectancy  max_expectancy          group  \\\n",
            "0    4.535924            12.0            15.0      Toy Group   \n",
            "1   27.215542            12.0            15.0    Hound Group   \n",
            "2   31.751466            11.0            14.0  Terrier Group   \n",
            "3   58.967008            10.0            13.0  Working Group   \n",
            "4   38.555351            10.0            14.0  Working Group   \n",
            "\n",
            "   grooming_frequency_value  shedding_value  energy_level_value  \\\n",
            "0                       0.6             0.6                 0.6   \n",
            "1                       0.8             0.2                 0.8   \n",
            "2                       0.6             0.4                 0.6   \n",
            "3                       0.8             0.6                 0.8   \n",
            "4                       0.6             0.6                 0.8   \n",
            "\n",
            "   trainability_value  demeanor_value  \n",
            "0                 0.8             1.0  \n",
            "1                 0.2             0.2  \n",
            "2                 1.0             0.8  \n",
            "3                 1.0             0.6  \n",
            "4                 0.4             0.8  \n",
            "(277, 14)\n"
          ]
        }
      ],
      "source": [
        "import numpy as np\n",
        "import pandas as pd\n",
        "import seaborn as sb\n",
        "import matplotlib.pyplot as plt\n",
        "\n",
        "from sklearn.preprocessing import MinMaxScaler\n",
        "from sklearn.preprocessing import LabelEncoder\n",
        "\n",
        "dog_db = pd.read_csv('dog_database.csv')\n",
        "\n",
        "# Prints para checagem de leitura do arquivo\n",
        "# print(dog_db)\n",
        "# print(dog_db.head())\n",
        "# print(dog_db.shape)\n",
        "\n",
        "ignored_columns = ['description', 'temperament', 'grooming_frequency_category', 'shedding_category', 'energy_level_category', 'trainability_category', 'demeanor_category']\n",
        "\n",
        "dog_db = dog_db.drop(ignored_columns, axis=1) \n",
        "# print(dog_db)\n",
        "print(dog_db.head())\n",
        "print(dog_db.shape)"
      ]
    },
    {
      "cell_type": "code",
      "source": [
        "# Teste de organização de plotagem\n",
        "\n",
        "shedding = dog_db['shedding_value']\n",
        "count_shedding = shedding.value_counts().sort_index()\n",
        "\n",
        "count_shedding.plot.bar(x=count_shedding.index)\n",
        "plt.title(\"Shedding\")\n",
        "plt.xlabel(\"Valor parametrizado\")\n",
        "plt.ylabel(\"Número de ocorrências\")\n",
        "plt.show()"
      ],
      "metadata": {
        "colab": {
          "base_uri": "https://localhost:8080/",
          "height": 480
        },
        "id": "2vzq1jEw7xfz",
        "outputId": "94219163-bf9c-476b-aeb3-84117dc0834d"
      },
      "execution_count": 7,
      "outputs": [
        {
          "output_type": "display_data",
          "data": {
            "text/plain": [
              "<Figure size 640x480 with 1 Axes>"
            ],
            "image/png": "[encoded data removed]"
          },
          "metadata": {}
        }
      ]
    },
    {
      "cell_type": "code",
      "source": [
        "#Definição do atributo de saída\n",
        "\n",
        "output = 'raça'\n",
        "\n",
        "dog_db = dog_db.rename(columns={dog_db.columns[0]: output})\n",
        "dog_db = dog_db.drop(output, axis=1)\n",
        "# print(dog_db.columns)"
      ],
      "metadata": {
        "id": "Sq1YPmJu_2Tq"
      },
      "execution_count": 8,
      "outputs": []
    },
    {
      "cell_type": "code",
      "source": [
        "#Retirada de atributos incompletos e codificação inteira\n",
        "\n",
        "dog_db.dropna(inplace=True)\n",
        "# print(\"----------------------------------------------------------------\")\n",
        "# print(dog_db)\n",
        "\n",
        "int_encoder = LabelEncoder()\n",
        "dog_db['group_value'] = int_encoder.fit_transform(dog_db['group'])\n",
        "\n",
        "#Prints de testes para codificação da coluna 'groups'\n",
        "# print(dog_db.head())\n",
        "groups_val = int_encoder.classes_\n",
        "print(groups_val)\n",
        "uni_val = dog_db['group_value'].unique()\n",
        "print(uni_val)\n",
        "\n",
        "#Print para descobrir o valor atribuído a cada classe da coluna 'groups'\n",
        "# for uni_val, groups_val in zip(dog_db['group_value'], dog_db['group']):\n",
        "#   print(f'uni_val: {uni_val}, groups_val: {groups_val}')\n",
        "\n",
        "print('Herding Group = 0\\nHound Group = 1\\nNon-Sporting Group = 2\\nSporting Group = 3\\nTerrier Group = 4\\nToy Group = 5\\nWorking Group = 6')\n",
        "\n",
        "group_col = 'group'\n",
        "dog_db = dog_db.drop(group_col, axis=1)\n",
        "# print(dog_db.head())"
      ],
      "metadata": {
        "colab": {
          "base_uri": "https://localhost:8080/"
        },
        "id": "jL4u1YVIid00",
        "outputId": "52935cc4-680e-449b-856d-b79b528f38ae"
      },
      "execution_count": 9,
      "outputs": [
        {
          "output_type": "stream",
          "name": "stdout",
          "text": [
            "['Herding Group' 'Hound Group' 'Non-Sporting Group' 'Sporting Group'\n",
            " 'Terrier Group' 'Toy Group' 'Working Group']\n",
            "[5 1 4 6 2 3 0]\n",
            "Herding Group = 0\n",
            "Hound Group = 1\n",
            "Non-Sporting Group = 2\n",
            "Sporting Group = 3\n",
            "Terrier Group = 4\n",
            "Toy Group = 5\n",
            "Working Group = 6\n"
          ]
        }
      ]
    },
    {
      "cell_type": "code",
      "source": [
        "#Normalização dos atributos\n",
        "\n",
        "# dog_db['min_weight'] = dog_db['min_weight'].round(2)\n",
        "# dog_db['max_weight'] = dog_db['max_weight'].round(2)\n",
        "# print(dog_db.head())\n",
        "\n",
        "# print(dog_db)\n",
        "\n",
        "#Teste para descobrir qual coluna possuíam dados tipo 'string' qua não podiam ser tranformadas em float automaticamente pela função normalização\n",
        "# for col_test in col_normalize:\n",
        "#   if dog_db[col_test].dtype == object:\n",
        "#     print(f\"Coluna {col_test} contém string\")\n",
        "\n",
        "col_normalize = ['min_height', 'max_height', 'min_weight', 'max_weight', 'min_expectancy', 'max_expectancy', 'group_value']\n",
        "scaler = MinMaxScaler()\n",
        "dog_db[col_normalize] = scaler.fit_transform(dog_db[col_normalize])\n",
        "\n",
        "print(dog_db.head())"
      ],
      "metadata": {
        "colab": {
          "base_uri": "https://localhost:8080/"
        },
        "id": "w9CY4_FSKJn9",
        "outputId": "e19602fe-e113-4e61-bace-d4698bc1b0ea"
      },
      "execution_count": 13,
      "outputs": [
        {
          "output_type": "stream",
          "name": "stdout",
          "text": [
            "  popularity  min_height  max_height  min_weight  max_weight  min_expectancy  \\\n",
            "0        148        0.16        0.18    0.046737    0.043516        0.800000   \n",
            "1        113        0.80        0.80    0.333333    0.260903        0.800000   \n",
            "2         60        0.72        0.64    0.333333    0.304323        0.733333   \n",
            "3         47        0.76        0.84    0.466637    0.565226        0.666667   \n",
            "4         58        0.72        0.72    0.500000    0.369596        0.666667   \n",
            "\n",
            "   max_expectancy  grooming_frequency_value  shedding_value  \\\n",
            "0        0.789474                       0.6             0.6   \n",
            "1        0.789474                       0.8             0.2   \n",
            "2        0.736842                       0.6             0.4   \n",
            "3        0.684211                       0.8             0.6   \n",
            "4        0.736842                       0.6             0.6   \n",
            "\n",
            "   energy_level_value  trainability_value  demeanor_value  group_value  \n",
            "0                 0.6                 0.8             1.0     0.833333  \n",
            "1                 0.8                 0.2             0.2     0.166667  \n",
            "2                 0.6                 1.0             0.8     0.666667  \n",
            "3                 0.8                 1.0             0.6     1.000000  \n",
            "4                 0.8                 0.4             0.8     1.000000  \n"
          ]
        }
      ]
    }
  ]
}